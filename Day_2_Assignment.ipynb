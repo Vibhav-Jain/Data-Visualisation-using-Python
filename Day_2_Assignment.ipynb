{
  "nbformat": 4,
  "nbformat_minor": 0,
  "metadata": {
    "colab": {
      "name": "Day 2 Assignment.ipynb",
      "provenance": [],
      "collapsed_sections": []
    },
    "kernelspec": {
      "name": "python3",
      "display_name": "Python 3"
    },
    "language_info": {
      "name": "python"
    }
  },
  "cells": [
    {
      "cell_type": "code",
      "metadata": {
        "id": "7QjKxXfziDqq"
      },
      "source": [
        "import numpy as np\n",
        "import matplotlib as mpl\n",
        "import pandas as pd\n",
        "import matplotlib as mpl\n",
        "import matplotlib.pyplot as plt\n",
        "import seaborn as sns\n",
        "from numpy.random import randn,randint,uniform,sample\n",
        "%matplotlib inline\n",
        "from numpy.random import randn,randint,uniform,sample"
      ],
      "execution_count": 2,
      "outputs": []
    },
    {
      "cell_type": "code",
      "metadata": {
        "id": "SuXBJSoriLQI",
        "colab": {
          "base_uri": "https://localhost:8080/",
          "height": 357
        },
        "outputId": "b1ab8740-11e6-4201-c99c-9682884f6da8"
      },
      "source": [
        "#to create a dataframe with 10 rows with random numbers and 4 columns (columns labelled as 'a', 'b', 'c', 'd')\n",
        "\n",
        "df = pd.DataFrame(randn(10,4),columns=['a','b','c','d'])\n",
        "df"
      ],
      "execution_count": 3,
      "outputs": [
        {
          "output_type": "execute_result",
          "data": {
            "text/html": [
              "<div>\n",
              "<style scoped>\n",
              "    .dataframe tbody tr th:only-of-type {\n",
              "        vertical-align: middle;\n",
              "    }\n",
              "\n",
              "    .dataframe tbody tr th {\n",
              "        vertical-align: top;\n",
              "    }\n",
              "\n",
              "    .dataframe thead th {\n",
              "        text-align: right;\n",
              "    }\n",
              "</style>\n",
              "<table border=\"1\" class=\"dataframe\">\n",
              "  <thead>\n",
              "    <tr style=\"text-align: right;\">\n",
              "      <th></th>\n",
              "      <th>a</th>\n",
              "      <th>b</th>\n",
              "      <th>c</th>\n",
              "      <th>d</th>\n",
              "    </tr>\n",
              "  </thead>\n",
              "  <tbody>\n",
              "    <tr>\n",
              "      <th>0</th>\n",
              "      <td>0.695981</td>\n",
              "      <td>0.676093</td>\n",
              "      <td>0.553019</td>\n",
              "      <td>-1.537246</td>\n",
              "    </tr>\n",
              "    <tr>\n",
              "      <th>1</th>\n",
              "      <td>-0.219645</td>\n",
              "      <td>0.953166</td>\n",
              "      <td>1.179031</td>\n",
              "      <td>-0.296848</td>\n",
              "    </tr>\n",
              "    <tr>\n",
              "      <th>2</th>\n",
              "      <td>-0.048715</td>\n",
              "      <td>1.285713</td>\n",
              "      <td>-1.169059</td>\n",
              "      <td>0.357065</td>\n",
              "    </tr>\n",
              "    <tr>\n",
              "      <th>3</th>\n",
              "      <td>-1.524013</td>\n",
              "      <td>-0.665938</td>\n",
              "      <td>0.961975</td>\n",
              "      <td>0.958136</td>\n",
              "    </tr>\n",
              "    <tr>\n",
              "      <th>4</th>\n",
              "      <td>-0.207311</td>\n",
              "      <td>-1.702631</td>\n",
              "      <td>-1.149240</td>\n",
              "      <td>0.402670</td>\n",
              "    </tr>\n",
              "    <tr>\n",
              "      <th>5</th>\n",
              "      <td>-0.005258</td>\n",
              "      <td>0.439585</td>\n",
              "      <td>1.385723</td>\n",
              "      <td>-0.443623</td>\n",
              "    </tr>\n",
              "    <tr>\n",
              "      <th>6</th>\n",
              "      <td>0.588820</td>\n",
              "      <td>-1.091756</td>\n",
              "      <td>1.115099</td>\n",
              "      <td>-0.898687</td>\n",
              "    </tr>\n",
              "    <tr>\n",
              "      <th>7</th>\n",
              "      <td>0.898327</td>\n",
              "      <td>0.745941</td>\n",
              "      <td>0.139388</td>\n",
              "      <td>-2.028461</td>\n",
              "    </tr>\n",
              "    <tr>\n",
              "      <th>8</th>\n",
              "      <td>2.199765</td>\n",
              "      <td>-2.359460</td>\n",
              "      <td>-0.503865</td>\n",
              "      <td>-1.166011</td>\n",
              "    </tr>\n",
              "    <tr>\n",
              "      <th>9</th>\n",
              "      <td>-0.466086</td>\n",
              "      <td>-2.084500</td>\n",
              "      <td>1.111708</td>\n",
              "      <td>0.045036</td>\n",
              "    </tr>\n",
              "  </tbody>\n",
              "</table>\n",
              "</div>"
            ],
            "text/plain": [
              "          a         b         c         d\n",
              "0  0.695981  0.676093  0.553019 -1.537246\n",
              "1 -0.219645  0.953166  1.179031 -0.296848\n",
              "2 -0.048715  1.285713 -1.169059  0.357065\n",
              "3 -1.524013 -0.665938  0.961975  0.958136\n",
              "4 -0.207311 -1.702631 -1.149240  0.402670\n",
              "5 -0.005258  0.439585  1.385723 -0.443623\n",
              "6  0.588820 -1.091756  1.115099 -0.898687\n",
              "7  0.898327  0.745941  0.139388 -2.028461\n",
              "8  2.199765 -2.359460 -0.503865 -1.166011\n",
              "9 -0.466086 -2.084500  1.111708  0.045036"
            ]
          },
          "metadata": {
            "tags": []
          },
          "execution_count": 3
        }
      ]
    },
    {
      "cell_type": "code",
      "metadata": {
        "colab": {
          "base_uri": "https://localhost:8080/",
          "height": 621
        },
        "id": "PSfKSn5SieZC",
        "outputId": "c6abf424-a35f-4a27-afd0-288b4e1e2069"
      },
      "source": [
        "df.plot(kind='bar',title='Bar Chart',figsize=(10,10),grid=True,legend = True)"
      ],
      "execution_count": 4,
      "outputs": [
        {
          "output_type": "execute_result",
          "data": {
            "text/plain": [
              "<matplotlib.axes._subplots.AxesSubplot at 0x7f4095e47e90>"
            ]
          },
          "metadata": {
            "tags": []
          },
          "execution_count": 4
        },
        {
          "output_type": "display_data",
          "data": {
            "image/png": "[encoded data removed]",
            "text/plain": [
              "<Figure size 720x720 with 1 Axes>"
            ]
          },
          "metadata": {
            "tags": [],
            "needs_background": "light"
          }
        }
      ]
    },
    {
      "cell_type": "code",
      "metadata": {
        "id": "pJNChl37GU1k"
      },
      "source": [
        ""
      ],
      "execution_count": null,
      "outputs": []
    }
  ]
}